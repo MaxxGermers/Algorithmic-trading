# ema_strategy.ipynb - Load data and calculate EMAs

import yfinance as yf
import pandas as pd
import matplotlib.pyplot as plt

# Download NVDA historical data from 2022 to today
ticker = "NVDA"
start_date = "2022-01-01"
df = yf.download(ticker, start=start_date)

# Calculate EMAs
short_window = 20
long_window = 50

df['EMA20'] = df['Close'].ewm(span=short_window, adjust=False).mean()
df['EMA50'] = df['Close'].ewm(span=long_window, adjust=False).mean()

# Plot EMAs and closing price
plt.figure(figsize=(14, 6))
plt.plot(df['Close'], label='Close Price')
plt.plot(df['EMA20'], label='EMA 20', linestyle='--')
plt.plot(df['EMA50'], label='EMA 50', linestyle='--')
plt.title(f"{ticker} EMA Crossover")
plt.legend()
plt.grid(True)
plt.show()
